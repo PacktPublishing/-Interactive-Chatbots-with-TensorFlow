{
 "cells": [
  {
   "cell_type": "markdown",
   "metadata": {},
   "source": [
    "# Stemming"
   ]
  },
  {
   "cell_type": "markdown",
   "metadata": {},
   "source": [
    "## Solving the Stemming examples from the slides using NLTK\n",
    "## More examples added in this notebook\n",
    "### You can install NLTK from https://www.nltk.org/install.html"
   ]
  },
  {
   "cell_type": "code",
   "execution_count": 1,
   "metadata": {},
   "outputs": [],
   "source": [
    "from nltk.stem import PorterStemmer\n",
    "\n",
    "stemmer = PorterStemmer()"
   ]
  },
  {
   "cell_type": "code",
   "execution_count": 12,
   "metadata": {},
   "outputs": [
    {
     "name": "stdout",
     "output_type": "stream",
     "text": [
      "cat run wa\n"
     ]
    }
   ],
   "source": [
    "example = \"Cats Running Was\"\n",
    "example = [stemmer.stem(token) for token in example.split(\" \")]\n",
    "print(\" \".join(example))"
   ]
  },
  {
   "cell_type": "code",
   "execution_count": 13,
   "metadata": {},
   "outputs": [
    {
     "name": "stdout",
     "output_type": "stream",
     "text": [
      "you better lose yourself in the music, the moment you own it, you better never let it go you onli get one shot, do not miss your chanc to blow thi opportun come onc in a lifetim \n"
     ]
    }
   ],
   "source": [
    "lyrics = \"You better lose yourself in the music, the moment \"\\\n",
    "+ \"You own it, you better never let it go \"\\\n",
    "+ \"You only get one shot, do not miss your chance to blow \"\\\n",
    "+ \"This opportunity comes once in a lifetime \"\n",
    "lyrics = [stemmer.stem(token) for token in lyrics.split(\" \")]\n",
    "print(\" \".join(lyrics))"
   ]
  },
  {
   "cell_type": "code",
   "execution_count": 14,
   "metadata": {},
   "outputs": [
    {
     "name": "stdout",
     "output_type": "stream",
     "text": [
      "bromwel high is a cartoon comedy. It ran at the same time as some other program about school life, such as \"teachers\". My 35 year in the teach profess lead me to believ that bromwel high' satir is much closer to realiti than is \"teachers\". the scrambl to surviv financially, the insight student who can see right through their pathet teachers' pomp, the petti of the whole situat , all remind me of the school I knew and their students. when I saw the episod in which a student repeatedli tri to burn down the school, I immedi recal ......... at .......... high. A classic line: inspector: i'm here to sack one of your teachers. student: welcom to bromwel high. I expect that mani adult of my age think that bromwel high is far fetched. what a piti that it isn't!\n"
     ]
    }
   ],
   "source": [
    "review = \"Bromwell High is a cartoon comedy. \"\\\n",
    "+ \"It ran at the same time as some other programs about school life, such as \\\"Teachers\\\". \"\\\n",
    "+ \"My 35 years in the teaching profession lead me to believe that Bromwell High's satire is much \"\\\n",
    "+ \"closer to reality than is \\\"Teachers\\\". The scramble to survive financially, the insightful \"\\\n",
    "+ \"students who can see right through their pathetic teachers' pomp, the pettiness of the whole situation \"\\\n",
    "+ \", all remind me of the schools I knew and their students. When I saw the episode in which a student \"\\\n",
    "+ \"repeatedly tried to burn down the school, I immediately recalled ......... at .......... High. \"\\\n",
    "+ \"A classic line: INSPECTOR: I'm here to sack one of your teachers. STUDENT: Welcome to Bromwell High. \"\\\n",
    "+ \"I expect that many adults of my age think that Bromwell High is far fetched. What a pity that it isn't!\"\n",
    "\n",
    "review= [stemmer.stem(token) for token in review.split(\" \")]\n",
    "print(\" \".join(review))"
   ]
  }
 ],
 "metadata": {
  "kernelspec": {
   "display_name": "Python 3",
   "language": "python",
   "name": "python3"
  },
  "language_info": {
   "codemirror_mode": {
    "name": "ipython",
    "version": 3
   },
   "file_extension": ".py",
   "mimetype": "text/x-python",
   "name": "python",
   "nbconvert_exporter": "python",
   "pygments_lexer": "ipython3",
   "version": "3.5.4"
  }
 },
 "nbformat": 4,
 "nbformat_minor": 2
}
