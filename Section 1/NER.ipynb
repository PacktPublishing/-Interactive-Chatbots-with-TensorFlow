{
 "cells": [
  {
   "cell_type": "markdown",
   "metadata": {},
   "source": [
    "# Named Entity Recognition\n",
    "## In this notebook we will explore spaCy's abilities at detecting named entities."
   ]
  },
  {
   "cell_type": "code",
   "execution_count": 1,
   "metadata": {},
   "outputs": [],
   "source": [
    "import spacy\n",
    "\n",
    "nlp = spacy.load('en_core_web_sm')"
   ]
  },
  {
   "cell_type": "code",
   "execution_count": 3,
   "metadata": {},
   "outputs": [
    {
     "name": "stdout",
     "output_type": "stream",
     "text": [
      "Google ORG\n",
      "Larry Page PERSON\n",
      "Sergey Brin ORG\n",
      "the United States of America GPE\n",
      "one CARDINAL\n"
     ]
    }
   ],
   "source": [
    "example = \"Google, a company founded by Larry Page and Sergey Brin in the United States of America \"\\\n",
    "+ \"has one of the world’s most advanced search engines.\"\n",
    "\n",
    "doc = nlp(example)\n",
    "\n",
    "for ent in doc.ents:\n",
    "    print(ent.text, ent.label_)"
   ]
  },
  {
   "cell_type": "code",
   "execution_count": 4,
   "metadata": {},
   "outputs": [
    {
     "name": "stdout",
     "output_type": "stream",
     "text": [
      "U.S. GPE\n",
      "Taliban ORG\n",
      "America GPE\n",
      "three CARDINAL\n",
      "NBC News ORG\n"
     ]
    }
   ],
   "source": [
    "example = \"U.S. officials are meeting with former Taliban members \"\\\n",
    "+ \"amid intensifying efforts to wind down America's longest war, three of the \"\\\n",
    "+ \"militant group's commanders told NBC News.\"\n",
    "\n",
    "doc = nlp(example)\n",
    "\n",
    "for ent in doc.ents:\n",
    "    print(ent.text, ent.label_)"
   ]
  },
  {
   "cell_type": "code",
   "execution_count": 6,
   "metadata": {},
   "outputs": [
    {
     "name": "stdout",
     "output_type": "stream",
     "text": [
      "an arduous year DATE\n",
      "German NORP\n",
      "Angela Merkel PERSON\n",
      "the European Union ORG\n",
      "US GPE\n",
      "Donald Trump PERSON\n",
      "one CARDINAL\n",
      "summer DATE\n",
      "Berlin GPE\n",
      "today (July 20 DATE\n",
      "a few days holiday DATE\n"
     ]
    }
   ],
   "source": [
    "example = \"It’s been an arduous year for German chancellor Angela Merkel, so far. \"\\\n",
    "+ \"She has battled through coalition negotiations to form a government, chivvied \"\\\n",
    "+ \"the European Union into a loose agreement on migrants, weathered insults from \"\\\n",
    "+ \"US president Donald Trump, and headed off a revolt from her interior minister. No wonder \"\\\n",
    "+ \"then one journalist at her summer news conference in Berlin today (July 20) asked if \"\\\n",
    "+ \"she was, honestly, just exhausted. “I can’t complain,” Merkel said, “I have a few days \"\\\n",
    "+ \"holiday now and am looking forward to sleeping a bit longer.”\"\n",
    "\n",
    "doc = nlp(example)\n",
    "\n",
    "for ent in doc.ents:\n",
    "    print(ent.text, ent.label_)"
   ]
  }
 ],
 "metadata": {
  "kernelspec": {
   "display_name": "Python 3",
   "language": "python",
   "name": "python3"
  },
  "language_info": {
   "codemirror_mode": {
    "name": "ipython",
    "version": 3
   },
   "file_extension": ".py",
   "mimetype": "text/x-python",
   "name": "python",
   "nbconvert_exporter": "python",
   "pygments_lexer": "ipython3",
   "version": "3.5.4"
  }
 },
 "nbformat": 4,
 "nbformat_minor": 2
}
